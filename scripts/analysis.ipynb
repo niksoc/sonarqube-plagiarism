{
 "cells": [
  {
   "cell_type": "code",
   "execution_count": null,
   "metadata": {},
   "outputs": [],
   "source": [
    "import numpy as np\n",
    "import pandas as pd\n",
    "import requests\n",
    "import json\n",
    "import os\n",
    "from collections import defaultdict, Counter\n",
    "import networkx as nx\n",
    "import matplotlib.pyplot as plt\n",
    "\n",
    "# directories at root level which are not projects\n",
    "EXCLUDE_FOLDERS = ['venv', 'node_modules']\n",
    "\n",
    "IGNORE_LINE_IF_DUPS_MORE_THAN = 6 # if line is duplicated across many people, then it's probably necessary common code and not copying\n",
    "MINIMUM_SPREAD = 2  # `spread` means number of files which have common content between the two projects\n",
    "TOTAL_DUP_LINES_FILTER = 10040  # total number of lines which have to be duplicate in the entire project\n",
    "\n",
    "\n",
    "NUM_DUPLICATED_LINES_URL = 'http://localhost:9000/api/measures/component?component={project}&metricKeys=duplicated_lines'\n",
    "COMPONENTS_URL = 'http://localhost:9000/api/components/tree?component={project}&ps=500&qualifiers=FIL'\n",
    "DUPLICATIONS_URL = 'http://localhost:9000/api/duplications/show?key={component}'"
   ]
  },
  {
   "cell_type": "code",
   "execution_count": null,
   "metadata": {},
   "outputs": [],
   "source": [
    "projects = [dirname for dirname in os.listdir() if dirname not in EXCLUDE_FOLDERS and not dirname.endswith('.py')]"
   ]
  },
  {
   "cell_type": "code",
   "execution_count": null,
   "metadata": {},
   "outputs": [],
   "source": [
    "def get_num_duplicated_lines(project):\n",
    "    r = requests.get(NUM_DUPLICATED_LINES_URL.format(project=project)).json()\n",
    "    try:\n",
    "        return int(r['component']['measures'][0]['value'])\n",
    "    except:\n",
    "        print(project)\n",
    "        return 0\n",
    "\n",
    "get_num_duplicated_lines(projects[0])\n",
    "    \n",
    "\n",
    "projects = [project for project in projects if get_num_duplicated_lines(project) > TOTAL_DUP_LINES_FILTER]    "
   ]
  },
  {
   "cell_type": "code",
   "execution_count": null,
   "metadata": {},
   "outputs": [],
   "source": [
    "def get_components(project):\n",
    "    \"\"\"you can say that in sonarqube, components are files of the project\"\"\"\n",
    "    r = requests.get(COMPONENTS_URL.format(project=project)).json()\n",
    "    return [component['key'] for component in r['components']]\n",
    "\n",
    "components = {project: get_components(project) for project in projects}"
   ]
  },
  {
   "cell_type": "code",
   "execution_count": null,
   "metadata": {},
   "outputs": [],
   "source": [
    "def get_duplicate_refs_for_each_line(duplications):\n",
    "    dup_line = defaultdict(set)\n",
    "    \n",
    "    for duplication in duplications:\n",
    "        orig_block = duplication['blocks'][0]\n",
    "\n",
    "        assert orig_block['_ref'] == '1'\n",
    "        \n",
    "        refs = {block['_ref'] for block in duplication['blocks'][1:]}\n",
    "        for line_num in range(orig_block['from'], orig_block['from'] + orig_block['size']):\n",
    "            dup_line[line_num].update(refs)\n",
    "        \n",
    "    return dup_line\n",
    "            \n",
    "            \n",
    "def get_count_in_component(component):\n",
    "    r = requests.get(DUPLICATIONS_URL.format(component=component)).json()\n",
    "    duplications = r['duplications']\n",
    "    other_components = r['files']\n",
    "\n",
    "    dup_line = get_duplicate_refs_for_each_line(duplications)\n",
    "\n",
    "    dup_line = {line_num: refs for line_num, refs in dup_line.items() if len(refs) < IGNORE_LINE_IF_DUPS_MORE_THAN}\n",
    "\n",
    "    refs = [ref for refs in dup_line.values() for ref in refs]\n",
    "    projects = [other_components[ref]['project'] for ref in refs]\n",
    "\n",
    "    return Counter(projects)\n",
    "\n",
    "def get_stats(project):\n",
    "    proj_num_lines = Counter()\n",
    "    spreads = Counter()\n",
    "    for component in components[project]:\n",
    "        component_count = get_count_in_component(component)\n",
    "        spreads.update(component_count.keys())\n",
    "        proj_num_lines.update(component_count)\n",
    "\n",
    "    return [{'project': project, 'num_lines': num_lines, 'spread': spreads[project]} for project, num_lines in proj_num_lines.items()\n",
    "            if spreads[project] > MINIMUM_SPREAD]\n",
    "\n",
    "data = {}\n",
    "for project in projects:\n",
    "    for stat in get_stats(project):\n",
    "        key = tuple(sorted((stat['project'], project)))\n",
    "        if data.get(key, {'num_lines': 0})['num_lines'] > stat['num_lines']:\n",
    "                continue\n",
    "        del stat['project']\n",
    "        data[key] = stat\n",
    "        \n",
    "data = [{'project1': project1 , 'project2': project2, **stat} for (project1, project2), stat in data.items()]\n",
    "df = pd.DataFrame(data)"
   ]
  },
  {
   "cell_type": "code",
   "execution_count": null,
   "metadata": {},
   "outputs": [],
   "source": [
    "df = df.loc[df['num_lines'] > 50 ]"
   ]
  },
  {
   "cell_type": "code",
   "execution_count": null,
   "metadata": {},
   "outputs": [],
   "source": [
    "df_normalized = df.copy()\n",
    "df_num_lines = df_normalized['num_lines']\n",
    "df_normalized['num_lines'] = (df_num_lines-df_num_lines.min())/(df_num_lines.max()-df_num_lines.min())\n",
    "G = nx.Graph()\n",
    "G.add_weighted_edges_from(df_normalized[['project1', 'project2', 'num_lines']].itertuples(index=False))\n",
    "for connected_component in nx.connected_components(G):\n",
    "    print(connected_component)\n"
   ]
  },
  {
   "cell_type": "code",
   "execution_count": null,
   "metadata": {},
   "outputs": [],
   "source": [
    "plt.figure(num=None, figsize=(12, 12), dpi=80, facecolor='w', edgecolor='k')\n",
    "pos = nx.spring_layout(G)\n",
    "\n",
    "nx.draw_networkx_nodes(G, pos, node_size=3)\n",
    "\n",
    "nx.draw_networkx_edges(G, pos, edgelist=G.edges(), width=1)\n",
    "\n",
    "nx.draw_networkx_labels(G, pos, font_size=10, font_family='sans-serif')\n",
    "\n",
    "plt.axis('off')\n",
    "plt.show()\n"
   ]
  },
  {
   "cell_type": "code",
   "execution_count": null,
   "metadata": {},
   "outputs": [],
   "source": [
    "df.to_csv('dupresults.csv')"
   ]
  },
  {
   "cell_type": "code",
   "execution_count": null,
   "metadata": {},
   "outputs": [],
   "source": [
    "df"
   ]
  },
  {
   "cell_type": "code",
   "execution_count": null,
   "metadata": {},
   "outputs": [],
   "source": []
  }
 ],
 "metadata": {
  "kernelspec": {
   "display_name": "Python 3",
   "language": "python",
   "name": "python3"
  },
  "language_info": {
   "codemirror_mode": {
    "name": "ipython",
    "version": 3
   },
   "file_extension": ".py",
   "mimetype": "text/x-python",
   "name": "python",
   "nbconvert_exporter": "python",
   "pygments_lexer": "ipython3",
   "version": "3.5.2"
  }
 },
 "nbformat": 4,
 "nbformat_minor": 2
}
